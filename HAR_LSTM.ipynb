{
 "cells": [
  {
   "cell_type": "code",
   "execution_count": 1,
   "metadata": {},
   "outputs": [],
   "source": [
    "import pandas as pd\n",
    "import numpy as np"
   ]
  },
  {
   "cell_type": "code",
   "execution_count": 2,
   "metadata": {},
   "outputs": [],
   "source": [
    "# Activities are the class labels\n",
    "# It is a 6 class classification\n",
    "ACTIVITIES = {\n",
    "    0: 'WALKING',\n",
    "    1: 'WALKING_UPSTAIRS',\n",
    "    2: 'WALKING_DOWNSTAIRS',\n",
    "    3: 'SITTING',\n",
    "    4: 'STANDING',\n",
    "    5: 'LAYING',\n",
    "}\n",
    "\n",
    "# Utility function to print the confusion matrix\n",
    "def confusion_matrix(Y_true, Y_pred):\n",
    "    Y_true = pd.Series([ACTIVITIES[y] for y in np.argmax(Y_true, axis=1)])\n",
    "    Y_pred = pd.Series([ACTIVITIES[y] for y in np.argmax(Y_pred, axis=1)])\n",
    "\n",
    "    return pd.crosstab(Y_true, Y_pred, rownames=['True'], colnames=['Pred'])"
   ]
  },
  {
   "cell_type": "markdown",
   "metadata": {},
   "source": [
    "### Data"
   ]
  },
  {
   "cell_type": "code",
   "execution_count": 3,
   "metadata": {},
   "outputs": [],
   "source": [
    "# Data directory\n",
    "DATADIR = 'UCI_HAR_Dataset'"
   ]
  },
  {
   "cell_type": "code",
   "execution_count": 4,
   "metadata": {},
   "outputs": [],
   "source": [
    "# Raw data signals\n",
    "# Signals are from Accelerometer and Gyroscope\n",
    "# The signals are in x,y,z directions\n",
    "# Sensor signals are filtered to have only body acceleration\n",
    "# excluding the acceleration due to gravity\n",
    "# Triaxial acceleration from the accelerometer is total acceleration\n",
    "SIGNALS = [\n",
    "    \"body_acc_x\",\n",
    "    \"body_acc_y\",\n",
    "    \"body_acc_z\",\n",
    "    \"body_gyro_x\",\n",
    "    \"body_gyro_y\",\n",
    "    \"body_gyro_z\",\n",
    "    \"total_acc_x\",\n",
    "    \"total_acc_y\",\n",
    "    \"total_acc_z\"\n",
    "]"
   ]
  },
  {
   "cell_type": "code",
   "execution_count": 5,
   "metadata": {},
   "outputs": [],
   "source": [
    "# Utility function to read the data from csv file\n",
    "def _read_csv(filename):\n",
    "    return pd.read_csv(filename, delim_whitespace=True, header=None)\n",
    "\n",
    "# Utility function to load the load\n",
    "def load_signals(subset):\n",
    "    signals_data = []\n",
    "\n",
    "    for signal in SIGNALS:\n",
    "        filename = f'UCI_HAR_Dataset/{subset}/Inertial Signals/{signal}_{subset}.txt'\n",
    "        signals_data.append(\n",
    "            _read_csv(filename).as_matrix()\n",
    "        ) \n",
    "\n",
    "    # Transpose is used to change the dimensionality of the output,\n",
    "    # aggregating the signals by combination of sample/timestep.\n",
    "    # Resultant shape is (7352 train/2947 test samples, 128 timesteps, 9 signals)\n",
    "    return np.transpose(signals_data, (1, 2, 0))"
   ]
  },
  {
   "cell_type": "code",
   "execution_count": 6,
   "metadata": {},
   "outputs": [],
   "source": [
    "\n",
    "def load_y(subset):\n",
    "    \"\"\"\n",
    "    The objective that we are trying to predict is a integer, from 1 to 6,\n",
    "    that represents a human activity. We return a binary representation of \n",
    "    every sample objective as a 6 bits vector using One Hot Encoding\n",
    "    (https://pandas.pydata.org/pandas-docs/stable/generated/pandas.get_dummies.html)\n",
    "    \"\"\"\n",
    "    filename = f'UCI_HAR_Dataset/{subset}/y_{subset}.txt'\n",
    "    y = _read_csv(filename)[0]\n",
    "\n",
    "    return pd.get_dummies(y).as_matrix()"
   ]
  },
  {
   "cell_type": "code",
   "execution_count": 7,
   "metadata": {},
   "outputs": [],
   "source": [
    "def load_data():\n",
    "    \"\"\"\n",
    "    Obtain the dataset from multiple files.\n",
    "    Returns: X_train, X_test, y_train, y_test\n",
    "    \"\"\"\n",
    "    X_train, X_test = load_signals('train'), load_signals('test')\n",
    "    y_train, y_test = load_y('train'), load_y('test')\n",
    "\n",
    "    return X_train, X_test, y_train, y_test"
   ]
  },
  {
   "cell_type": "code",
   "execution_count": 8,
   "metadata": {},
   "outputs": [],
   "source": [
    "# Importing tensorflow\n",
    "np.random.seed(42)\n",
    "import tensorflow as tf\n",
    "tf.set_random_seed(42)"
   ]
  },
  {
   "cell_type": "code",
   "execution_count": 9,
   "metadata": {},
   "outputs": [],
   "source": [
    "# Configuring a session\n",
    "session_conf = tf.ConfigProto(\n",
    "    intra_op_parallelism_threads=1,\n",
    "    inter_op_parallelism_threads=1\n",
    ")"
   ]
  },
  {
   "cell_type": "code",
   "execution_count": 10,
   "metadata": {},
   "outputs": [
    {
     "name": "stderr",
     "output_type": "stream",
     "text": [
      "Using TensorFlow backend.\n"
     ]
    }
   ],
   "source": [
    "# Import Keras\n",
    "from keras import backend as K\n",
    "sess = tf.Session(graph=tf.get_default_graph(), config=session_conf)\n",
    "K.set_session(sess)"
   ]
  },
  {
   "cell_type": "code",
   "execution_count": 54,
   "metadata": {},
   "outputs": [],
   "source": [
    "# Importing libraries\n",
    "from keras.models import Sequential\n",
    "from keras.layers import LSTM\n",
    "from keras.layers.core import Dense, Dropout\n",
    "from keras.layers.normalization import BatchNormalization"
   ]
  },
  {
   "cell_type": "code",
   "execution_count": 12,
   "metadata": {},
   "outputs": [],
   "source": [
    "# Initializing parameters\n",
    "epochs = 30\n",
    "batch_size = 16\n",
    "n_hidden = 32"
   ]
  },
  {
   "cell_type": "code",
   "execution_count": 13,
   "metadata": {},
   "outputs": [],
   "source": [
    "# Utility function to count the number of classes\n",
    "def _count_classes(y):\n",
    "    return len(set([tuple(category) for category in y]))"
   ]
  },
  {
   "cell_type": "code",
   "execution_count": 14,
   "metadata": {},
   "outputs": [
    {
     "name": "stderr",
     "output_type": "stream",
     "text": [
      "C:\\Users\\Admin\\Anaconda3\\envs\\tensorflow_env\\lib\\site-packages\\ipykernel_launcher.py:12: FutureWarning: Method .as_matrix will be removed in a future version. Use .values instead.\n",
      "  if sys.path[0] == '':\n"
     ]
    }
   ],
   "source": [
    "# Loading the train and test data\n",
    "X_train, X_test, Y_train, Y_test = load_data()"
   ]
  },
  {
   "cell_type": "code",
   "execution_count": 15,
   "metadata": {},
   "outputs": [
    {
     "name": "stdout",
     "output_type": "stream",
     "text": [
      "128\n",
      "9\n",
      "7352\n"
     ]
    }
   ],
   "source": [
    "timesteps = len(X_train[0])\n",
    "input_dim = len(X_train[0][0])\n",
    "n_classes = _count_classes(Y_train)\n",
    "\n",
    "print(timesteps)\n",
    "print(input_dim)\n",
    "print(len(X_train))"
   ]
  },
  {
   "cell_type": "markdown",
   "metadata": {},
   "source": [
    "- Defining the Architecture of LSTM"
   ]
  },
  {
   "cell_type": "code",
   "execution_count": 16,
   "metadata": {},
   "outputs": [
    {
     "name": "stdout",
     "output_type": "stream",
     "text": [
      "WARNING:tensorflow:From C:\\Users\\Admin\\Anaconda3\\envs\\tensorflow_env\\lib\\site-packages\\tensorflow\\python\\framework\\op_def_library.py:263: colocate_with (from tensorflow.python.framework.ops) is deprecated and will be removed in a future version.\n",
      "Instructions for updating:\n",
      "Colocations handled automatically by placer.\n",
      "WARNING:tensorflow:From C:\\Users\\Admin\\Anaconda3\\envs\\tensorflow_env\\lib\\site-packages\\keras\\backend\\tensorflow_backend.py:3445: calling dropout (from tensorflow.python.ops.nn_ops) with keep_prob is deprecated and will be removed in a future version.\n",
      "Instructions for updating:\n",
      "Please use `rate` instead of `keep_prob`. Rate should be set to `rate = 1 - keep_prob`.\n",
      "_________________________________________________________________\n",
      "Layer (type)                 Output Shape              Param #   \n",
      "=================================================================\n",
      "lstm_1 (LSTM)                (None, 32)                5376      \n",
      "_________________________________________________________________\n",
      "dropout_1 (Dropout)          (None, 32)                0         \n",
      "_________________________________________________________________\n",
      "dense_1 (Dense)              (None, 6)                 198       \n",
      "=================================================================\n",
      "Total params: 5,574\n",
      "Trainable params: 5,574\n",
      "Non-trainable params: 0\n",
      "_________________________________________________________________\n"
     ]
    }
   ],
   "source": [
    "# Initiliazing the sequential model\n",
    "model = Sequential()\n",
    "# Configuring the parameters\n",
    "model.add(LSTM(n_hidden, input_shape=(timesteps, input_dim)))\n",
    "# Adding a dropout layer\n",
    "model.add(Dropout(0.5))\n",
    "# Adding a dense output layer with sigmoid activation\n",
    "model.add(Dense(n_classes, activation='sigmoid'))\n",
    "model.summary()"
   ]
  },
  {
   "cell_type": "code",
   "execution_count": 17,
   "metadata": {},
   "outputs": [],
   "source": [
    "# Compiling the model\n",
    "model.compile(loss='categorical_crossentropy',\n",
    "              optimizer='rmsprop',\n",
    "              metrics=['accuracy'])"
   ]
  },
  {
   "cell_type": "code",
   "execution_count": 18,
   "metadata": {},
   "outputs": [
    {
     "name": "stdout",
     "output_type": "stream",
     "text": [
      "WARNING:tensorflow:From C:\\Users\\Admin\\Anaconda3\\envs\\tensorflow_env\\lib\\site-packages\\tensorflow\\python\\ops\\math_ops.py:3066: to_int32 (from tensorflow.python.ops.math_ops) is deprecated and will be removed in a future version.\n",
      "Instructions for updating:\n",
      "Use tf.cast instead.\n",
      "Train on 7352 samples, validate on 2947 samples\n",
      "Epoch 1/30\n",
      "7352/7352 [==============================] - 60s 8ms/step - loss: 1.3233 - acc: 0.4332 - val_loss: 1.1553 - val_acc: 0.4649\n",
      "Epoch 2/30\n",
      "7352/7352 [==============================] - 55s 7ms/step - loss: 1.0250 - acc: 0.5536 - val_loss: 1.0156 - val_acc: 0.5806\n",
      "Epoch 3/30\n",
      "7352/7352 [==============================] - 54s 7ms/step - loss: 0.8296 - acc: 0.6432 - val_loss: 0.7981 - val_acc: 0.6043\n",
      "Epoch 4/30\n",
      "7352/7352 [==============================] - 56s 8ms/step - loss: 0.7209 - acc: 0.6542 - val_loss: 0.7564 - val_acc: 0.5955\n",
      "Epoch 5/30\n",
      "7352/7352 [==============================] - 52s 7ms/step - loss: 0.6490 - acc: 0.6702 - val_loss: 0.7268 - val_acc: 0.6237\n",
      "Epoch 6/30\n",
      "7352/7352 [==============================] - 52s 7ms/step - loss: 0.6264 - acc: 0.6780 - val_loss: 0.7316 - val_acc: 0.6206\n",
      "Epoch 7/30\n",
      "7352/7352 [==============================] - 52s 7ms/step - loss: 0.5941 - acc: 0.7065 - val_loss: 0.7197 - val_acc: 0.7017\n",
      "Epoch 8/30\n",
      "7352/7352 [==============================] - 52s 7ms/step - loss: 0.5716 - acc: 0.7291 - val_loss: 0.7148 - val_acc: 0.7279\n",
      "Epoch 9/30\n",
      "7352/7352 [==============================] - 52s 7ms/step - loss: 0.5232 - acc: 0.7788 - val_loss: 0.6354 - val_acc: 0.7448\n",
      "Epoch 10/30\n",
      "7352/7352 [==============================] - 52s 7ms/step - loss: 0.4901 - acc: 0.7930 - val_loss: 0.6373 - val_acc: 0.7513\n",
      "Epoch 11/30\n",
      "7352/7352 [==============================] - 52s 7ms/step - loss: 0.4514 - acc: 0.8041 - val_loss: 0.6609 - val_acc: 0.7506\n",
      "Epoch 12/30\n",
      "7352/7352 [==============================] - 52s 7ms/step - loss: 0.4343 - acc: 0.8202 - val_loss: 0.6811 - val_acc: 0.7669\n",
      "Epoch 13/30\n",
      "7352/7352 [==============================] - 52s 7ms/step - loss: 0.4740 - acc: 0.8380 - val_loss: 0.5476 - val_acc: 0.8409\n",
      "Epoch 14/30\n",
      "7352/7352 [==============================] - 52s 7ms/step - loss: 0.3630 - acc: 0.8841 - val_loss: 0.6571 - val_acc: 0.8290\n",
      "Epoch 15/30\n",
      "7352/7352 [==============================] - 51s 7ms/step - loss: 0.3168 - acc: 0.9081 - val_loss: 0.5576 - val_acc: 0.8633\n",
      "Epoch 16/30\n",
      "7352/7352 [==============================] - 53s 7ms/step - loss: 0.2820 - acc: 0.9169 - val_loss: 0.5482 - val_acc: 0.8633\n",
      "Epoch 17/30\n",
      "7352/7352 [==============================] - 54s 7ms/step - loss: 0.2524 - acc: 0.9219 - val_loss: 0.4965 - val_acc: 0.8768\n",
      "Epoch 18/30\n",
      "7352/7352 [==============================] - 52s 7ms/step - loss: 0.2359 - acc: 0.9346 - val_loss: 0.8069 - val_acc: 0.8107\n",
      "Epoch 19/30\n",
      "7352/7352 [==============================] - 52s 7ms/step - loss: 0.2083 - acc: 0.9382 - val_loss: 0.6350 - val_acc: 0.8439\n",
      "Epoch 20/30\n",
      "7352/7352 [==============================] - 52s 7ms/step - loss: 0.1900 - acc: 0.9402 - val_loss: 0.7828 - val_acc: 0.8442\n",
      "Epoch 21/30\n",
      "7352/7352 [==============================] - 52s 7ms/step - loss: 0.1966 - acc: 0.9391 - val_loss: 0.4236 - val_acc: 0.8850\n",
      "Epoch 22/30\n",
      "7352/7352 [==============================] - 52s 7ms/step - loss: 0.1937 - acc: 0.9402 - val_loss: 0.4633 - val_acc: 0.8846\n",
      "Epoch 23/30\n",
      "7352/7352 [==============================] - 52s 7ms/step - loss: 0.2112 - acc: 0.9376 - val_loss: 0.5757 - val_acc: 0.8633\n",
      "Epoch 24/30\n",
      "7352/7352 [==============================] - 52s 7ms/step - loss: 0.1882 - acc: 0.9389 - val_loss: 0.4698 - val_acc: 0.8748\n",
      "Epoch 25/30\n",
      "7352/7352 [==============================] - 52s 7ms/step - loss: 0.1704 - acc: 0.9436 - val_loss: 0.6065 - val_acc: 0.8592\n",
      "Epoch 26/30\n",
      "7352/7352 [==============================] - 52s 7ms/step - loss: 0.1592 - acc: 0.9453 - val_loss: 0.8993 - val_acc: 0.8558\n",
      "Epoch 27/30\n",
      "7352/7352 [==============================] - 52s 7ms/step - loss: 0.1836 - acc: 0.9426 - val_loss: 0.5185 - val_acc: 0.9013\n",
      "Epoch 28/30\n",
      "7352/7352 [==============================] - 52s 7ms/step - loss: 0.1672 - acc: 0.9431 - val_loss: 0.4778 - val_acc: 0.9013\n",
      "Epoch 29/30\n",
      "7352/7352 [==============================] - 53s 7ms/step - loss: 0.1754 - acc: 0.9480 - val_loss: 0.6840 - val_acc: 0.8741\n",
      "Epoch 30/30\n",
      "7352/7352 [==============================] - 52s 7ms/step - loss: 0.1837 - acc: 0.9436 - val_loss: 0.5227 - val_acc: 0.8914\n"
     ]
    }
   ],
   "source": [
    "# Training the model\n",
    "history_32_rms = model.fit(X_train,\n",
    "          Y_train,\n",
    "          batch_size=batch_size,\n",
    "          validation_data=(X_test, Y_test),\n",
    "          epochs=epochs)"
   ]
  },
  {
   "cell_type": "code",
   "execution_count": 19,
   "metadata": {},
   "outputs": [
    {
     "name": "stdout",
     "output_type": "stream",
     "text": [
      "Pred                LAYING  SITTING  STANDING  WALKING  WALKING_DOWNSTAIRS  \\\n",
      "True                                                                         \n",
      "LAYING                 510        0         3        0                   0   \n",
      "SITTING                  0      416        72        0                   0   \n",
      "STANDING                 0      109       423        0                   0   \n",
      "WALKING                  0        0         0      448                  25   \n",
      "WALKING_DOWNSTAIRS       0        0         0        8                 392   \n",
      "WALKING_UPSTAIRS         0        1         1       15                  16   \n",
      "\n",
      "Pred                WALKING_UPSTAIRS  \n",
      "True                                  \n",
      "LAYING                            24  \n",
      "SITTING                            3  \n",
      "STANDING                           0  \n",
      "WALKING                           23  \n",
      "WALKING_DOWNSTAIRS                20  \n",
      "WALKING_UPSTAIRS                 438  \n"
     ]
    }
   ],
   "source": [
    "# Confusion Matrix\n",
    "print(confusion_matrix(Y_test, model.predict(X_test)))"
   ]
  },
  {
   "cell_type": "code",
   "execution_count": 20,
   "metadata": {},
   "outputs": [
    {
     "name": "stdout",
     "output_type": "stream",
     "text": [
      "2947/2947 [==============================] - 2s 565us/step\n"
     ]
    }
   ],
   "source": [
    "score_32_rms = model.evaluate(X_test, Y_test)"
   ]
  },
  {
   "cell_type": "code",
   "execution_count": 21,
   "metadata": {},
   "outputs": [
    {
     "data": {
      "text/plain": [
       "[0.5226698747499483, 0.8914149983033594]"
      ]
     },
     "execution_count": 21,
     "metadata": {},
     "output_type": "execute_result"
    }
   ],
   "source": [
    "score_32_rms"
   ]
  },
  {
   "cell_type": "markdown",
   "metadata": {},
   "source": [
    "### LSTM with 48 units"
   ]
  },
  {
   "cell_type": "code",
   "execution_count": 22,
   "metadata": {},
   "outputs": [
    {
     "name": "stdout",
     "output_type": "stream",
     "text": [
      "_________________________________________________________________\n",
      "Layer (type)                 Output Shape              Param #   \n",
      "=================================================================\n",
      "lstm_2 (LSTM)                (None, 48)                11136     \n",
      "_________________________________________________________________\n",
      "dropout_2 (Dropout)          (None, 48)                0         \n",
      "_________________________________________________________________\n",
      "dense_2 (Dense)              (None, 6)                 294       \n",
      "=================================================================\n",
      "Total params: 11,430\n",
      "Trainable params: 11,430\n",
      "Non-trainable params: 0\n",
      "_________________________________________________________________\n"
     ]
    }
   ],
   "source": [
    "# Initiliazing the sequential model\n",
    "model = Sequential()\n",
    "# Configuring the parameters\n",
    "model.add(LSTM(48, input_shape=(timesteps, input_dim)))\n",
    "# Adding a dropout layer\n",
    "model.add(Dropout(0.6))\n",
    "# Adding a dense output layer with sigmoid activation\n",
    "model.add(Dense(n_classes, activation='sigmoid'))\n",
    "model.summary()"
   ]
  },
  {
   "cell_type": "code",
   "execution_count": 23,
   "metadata": {},
   "outputs": [],
   "source": [
    "# Compiling the model\n",
    "model.compile(loss='categorical_crossentropy',\n",
    "optimizer='adam',\n",
    "metrics=['accuracy'])"
   ]
  },
  {
   "cell_type": "code",
   "execution_count": 24,
   "metadata": {},
   "outputs": [
    {
     "name": "stdout",
     "output_type": "stream",
     "text": [
      "Train on 7352 samples, validate on 2947 samples\n",
      "Epoch 1/30\n",
      "7352/7352 [==============================] - 57s 8ms/step - loss: 1.4184 - acc: 0.3617 - val_loss: 1.3882 - val_acc: 0.3773\n",
      "Epoch 2/30\n",
      "7352/7352 [==============================] - 55s 7ms/step - loss: 1.2866 - acc: 0.4248 - val_loss: 1.1935 - val_acc: 0.5185\n",
      "Epoch 3/30\n",
      "7352/7352 [==============================] - 55s 7ms/step - loss: 1.1797 - acc: 0.4710 - val_loss: 1.1463 - val_acc: 0.4649\n",
      "Epoch 4/30\n",
      "7352/7352 [==============================] - 55s 8ms/step - loss: 0.9862 - acc: 0.5147 - val_loss: 1.0529 - val_acc: 0.4863\n",
      "Epoch 5/30\n",
      "7352/7352 [==============================] - 60s 8ms/step - loss: 0.8807 - acc: 0.5569 - val_loss: 1.6132 - val_acc: 0.4242\n",
      "Epoch 6/30\n",
      "7352/7352 [==============================] - 56s 8ms/step - loss: 0.9183 - acc: 0.5520 - val_loss: 1.0211 - val_acc: 0.4866\n",
      "Epoch 7/30\n",
      "7352/7352 [==============================] - 55s 7ms/step - loss: 0.8614 - acc: 0.5928 - val_loss: 1.1428 - val_acc: 0.4876\n",
      "Epoch 8/30\n",
      "7352/7352 [==============================] - 54s 7ms/step - loss: 0.8884 - acc: 0.5646 - val_loss: 0.8936 - val_acc: 0.5687\n",
      "Epoch 9/30\n",
      "7352/7352 [==============================] - 55s 7ms/step - loss: 1.1494 - acc: 0.4695 - val_loss: 1.1175 - val_acc: 0.4795\n",
      "Epoch 10/30\n",
      "7352/7352 [==============================] - 55s 8ms/step - loss: 1.0399 - acc: 0.4974 - val_loss: 1.1226 - val_acc: 0.5704\n",
      "Epoch 11/30\n",
      "7352/7352 [==============================] - 54s 7ms/step - loss: 0.9371 - acc: 0.5953 - val_loss: 0.9779 - val_acc: 0.5738\n",
      "Epoch 12/30\n",
      "7352/7352 [==============================] - 54s 7ms/step - loss: 0.9313 - acc: 0.5540 - val_loss: 0.9783 - val_acc: 0.4920\n",
      "Epoch 13/30\n",
      "7352/7352 [==============================] - 55s 7ms/step - loss: 1.0694 - acc: 0.4897 - val_loss: 1.1942 - val_acc: 0.4506\n",
      "Epoch 14/30\n",
      "7352/7352 [==============================] - 54s 7ms/step - loss: 0.9081 - acc: 0.5763 - val_loss: 0.9156 - val_acc: 0.5891\n",
      "Epoch 15/30\n",
      "7352/7352 [==============================] - 54s 7ms/step - loss: 0.7414 - acc: 0.6459 - val_loss: 0.7864 - val_acc: 0.6098\n",
      "Epoch 16/30\n",
      "7352/7352 [==============================] - 55s 7ms/step - loss: 0.6810 - acc: 0.6600 - val_loss: 0.8112 - val_acc: 0.6115\n",
      "Epoch 17/30\n",
      "7352/7352 [==============================] - 56s 8ms/step - loss: 0.6747 - acc: 0.6563 - val_loss: 0.7723 - val_acc: 0.6149\n",
      "Epoch 18/30\n",
      "7352/7352 [==============================] - 54s 7ms/step - loss: 0.6579 - acc: 0.6628 - val_loss: 0.7784 - val_acc: 0.6135\n",
      "Epoch 19/30\n",
      "7352/7352 [==============================] - 55s 7ms/step - loss: 0.6465 - acc: 0.6654 - val_loss: 0.8052 - val_acc: 0.6091\n",
      "Epoch 20/30\n",
      "7352/7352 [==============================] - 54s 7ms/step - loss: 0.6508 - acc: 0.6575 - val_loss: 0.9754 - val_acc: 0.5826\n",
      "Epoch 21/30\n",
      "7352/7352 [==============================] - 55s 8ms/step - loss: 0.6854 - acc: 0.6575 - val_loss: 0.7546 - val_acc: 0.6105\n",
      "Epoch 22/30\n",
      "7352/7352 [==============================] - 54s 7ms/step - loss: 0.6522 - acc: 0.6620 - val_loss: 0.7014 - val_acc: 0.6145\n",
      "Epoch 23/30\n",
      "7352/7352 [==============================] - 54s 7ms/step - loss: 0.6165 - acc: 0.6676 - val_loss: 0.7881 - val_acc: 0.6183\n",
      "Epoch 24/30\n",
      "7352/7352 [==============================] - 54s 7ms/step - loss: 0.5987 - acc: 0.6760 - val_loss: 0.6246 - val_acc: 0.6203\n",
      "Epoch 25/30\n",
      "7352/7352 [==============================] - 54s 7ms/step - loss: 0.5540 - acc: 0.6844 - val_loss: 0.6213 - val_acc: 0.6244\n",
      "Epoch 26/30\n",
      "7352/7352 [==============================] - 54s 7ms/step - loss: 0.5609 - acc: 0.6912 - val_loss: 0.5818 - val_acc: 0.6373\n",
      "Epoch 27/30\n",
      "7352/7352 [==============================] - 55s 7ms/step - loss: 0.4910 - acc: 0.7242 - val_loss: 0.5404 - val_acc: 0.6827\n",
      "Epoch 28/30\n",
      "7352/7352 [==============================] - 54s 7ms/step - loss: 0.4795 - acc: 0.7675 - val_loss: 0.5253 - val_acc: 0.7526\n",
      "Epoch 29/30\n",
      "7352/7352 [==============================] - 54s 7ms/step - loss: 0.4208 - acc: 0.8177 - val_loss: 0.4409 - val_acc: 0.7737\n",
      "Epoch 30/30\n",
      "7352/7352 [==============================] - 54s 7ms/step - loss: 0.3608 - acc: 0.8334 - val_loss: 0.4317 - val_acc: 0.7648\n"
     ]
    }
   ],
   "source": [
    "# Training the model\n",
    "history_48_adam = model.fit(X_train,\n",
    "Y_train,\n",
    "batch_size=batch_size,\n",
    "validation_data=(X_test, Y_test),\n",
    "epochs=epochs)"
   ]
  },
  {
   "cell_type": "code",
   "execution_count": 25,
   "metadata": {},
   "outputs": [
    {
     "name": "stdout",
     "output_type": "stream",
     "text": [
      "Pred                LAYING  SITTING  STANDING  WALKING  WALKING_DOWNSTAIRS  \\\n",
      "True                                                                         \n",
      "LAYING                 510        0         0        0                   0   \n",
      "SITTING                  0      395        85        8                   0   \n",
      "STANDING                 0      100       426        5                   0   \n",
      "WALKING                  0        0         0      460                   8   \n",
      "WALKING_DOWNSTAIRS       0        0         0        1                  31   \n",
      "WALKING_UPSTAIRS         0        0         0       24                  15   \n",
      "\n",
      "Pred                WALKING_UPSTAIRS  \n",
      "True                                  \n",
      "LAYING                            27  \n",
      "SITTING                            3  \n",
      "STANDING                           1  \n",
      "WALKING                           28  \n",
      "WALKING_DOWNSTAIRS               388  \n",
      "WALKING_UPSTAIRS                 432  \n"
     ]
    }
   ],
   "source": [
    "# Confusion Matrix\n",
    "print(confusion_matrix(Y_test, model.predict(X_test)))"
   ]
  },
  {
   "cell_type": "code",
   "execution_count": 26,
   "metadata": {},
   "outputs": [
    {
     "name": "stdout",
     "output_type": "stream",
     "text": [
      "2947/2947 [==============================] - 2s 637us/step\n"
     ]
    }
   ],
   "source": [
    "score_48_adam = model.evaluate(X_test, Y_test)"
   ]
  },
  {
   "cell_type": "code",
   "execution_count": 27,
   "metadata": {},
   "outputs": [
    {
     "data": {
      "text/plain": [
       "[0.43165912415404384, 0.7648456057007126]"
      ]
     },
     "execution_count": 27,
     "metadata": {},
     "output_type": "execute_result"
    }
   ],
   "source": [
    "score_48_adam"
   ]
  },
  {
   "cell_type": "markdown",
   "metadata": {},
   "source": [
    "### LSTM with 64 units"
   ]
  },
  {
   "cell_type": "code",
   "execution_count": 28,
   "metadata": {},
   "outputs": [
    {
     "name": "stdout",
     "output_type": "stream",
     "text": [
      "_________________________________________________________________\n",
      "Layer (type)                 Output Shape              Param #   \n",
      "=================================================================\n",
      "lstm_3 (LSTM)                (None, 64)                18944     \n",
      "_________________________________________________________________\n",
      "dropout_3 (Dropout)          (None, 64)                0         \n",
      "_________________________________________________________________\n",
      "dense_3 (Dense)              (None, 6)                 390       \n",
      "=================================================================\n",
      "Total params: 19,334\n",
      "Trainable params: 19,334\n",
      "Non-trainable params: 0\n",
      "_________________________________________________________________\n"
     ]
    }
   ],
   "source": [
    "# Initiliazing the sequential model\n",
    "model = Sequential()\n",
    "# Configuring the parameters\n",
    "model.add(LSTM(64, input_shape=(timesteps, input_dim)))\n",
    "# Adding a dropout layer\n",
    "model.add(Dropout(0.5))\n",
    "# Adding a dense output layer with sigmoid activation\n",
    "model.add(Dense(n_classes, activation='sigmoid'))\n",
    "model.summary()"
   ]
  },
  {
   "cell_type": "code",
   "execution_count": 29,
   "metadata": {},
   "outputs": [],
   "source": [
    "# Compiling the model\n",
    "model.compile(loss='categorical_crossentropy',\n",
    "optimizer='rmsprop',\n",
    "metrics=['accuracy'])"
   ]
  },
  {
   "cell_type": "code",
   "execution_count": 30,
   "metadata": {},
   "outputs": [
    {
     "name": "stdout",
     "output_type": "stream",
     "text": [
      "Train on 7352 samples, validate on 2947 samples\n",
      "Epoch 1/30\n",
      "7352/7352 [==============================] - 59s 8ms/step - loss: 1.2178 - acc: 0.4691 - val_loss: 1.0465 - val_acc: 0.5205\n",
      "Epoch 2/30\n",
      "7352/7352 [==============================] - 58s 8ms/step - loss: 0.8636 - acc: 0.6321 - val_loss: 0.7916 - val_acc: 0.6362\n",
      "Epoch 3/30\n",
      "7352/7352 [==============================] - 57s 8ms/step - loss: 0.6813 - acc: 0.7040 - val_loss: 0.6797 - val_acc: 0.7662\n",
      "Epoch 4/30\n",
      "7352/7352 [==============================] - 60s 8ms/step - loss: 0.5363 - acc: 0.8069 - val_loss: 0.6028 - val_acc: 0.8113\n",
      "Epoch 5/30\n",
      "7352/7352 [==============================] - 59s 8ms/step - loss: 0.4041 - acc: 0.8682 - val_loss: 0.4323 - val_acc: 0.8867\n",
      "Epoch 6/30\n",
      "7352/7352 [==============================] - 59s 8ms/step - loss: 0.3008 - acc: 0.9019 - val_loss: 0.5835 - val_acc: 0.8388\n",
      "Epoch 7/30\n",
      "7352/7352 [==============================] - 59s 8ms/step - loss: 0.2636 - acc: 0.9159 - val_loss: 0.5152 - val_acc: 0.8517\n",
      "Epoch 8/30\n",
      "7352/7352 [==============================] - 60s 8ms/step - loss: 0.2360 - acc: 0.9260 - val_loss: 0.4165 - val_acc: 0.8795\n",
      "Epoch 9/30\n",
      "7352/7352 [==============================] - 59s 8ms/step - loss: 0.2117 - acc: 0.9294 - val_loss: 0.4550 - val_acc: 0.8870\n",
      "Epoch 10/30\n",
      "7352/7352 [==============================] - 79s 11ms/step - loss: 0.1976 - acc: 0.9347 - val_loss: 0.3528 - val_acc: 0.9036\n",
      "Epoch 11/30\n",
      "7352/7352 [==============================] - 67s 9ms/step - loss: 0.2377 - acc: 0.9271 - val_loss: 0.4062 - val_acc: 0.8955\n",
      "Epoch 12/30\n",
      "7352/7352 [==============================] - 74s 10ms/step - loss: 0.1769 - acc: 0.9411 - val_loss: 0.3768 - val_acc: 0.8904\n",
      "Epoch 13/30\n",
      "7352/7352 [==============================] - 68s 9ms/step - loss: 0.1923 - acc: 0.9310 - val_loss: 0.4514 - val_acc: 0.8945\n",
      "Epoch 14/30\n",
      "7352/7352 [==============================] - 64s 9ms/step - loss: 0.1765 - acc: 0.9368 - val_loss: 0.5506 - val_acc: 0.8972\n",
      "Epoch 15/30\n",
      "7352/7352 [==============================] - 63s 9ms/step - loss: 0.1685 - acc: 0.9426 - val_loss: 0.3006 - val_acc: 0.9223\n",
      "Epoch 16/30\n",
      "7352/7352 [==============================] - 63s 9ms/step - loss: 0.1678 - acc: 0.9452 - val_loss: 0.2910 - val_acc: 0.9148\n",
      "Epoch 17/30\n",
      "7352/7352 [==============================] - 63s 9ms/step - loss: 0.1462 - acc: 0.9457 - val_loss: 0.3554 - val_acc: 0.9128\n",
      "Epoch 18/30\n",
      "7352/7352 [==============================] - 63s 9ms/step - loss: 0.1557 - acc: 0.9431 - val_loss: 0.2750 - val_acc: 0.9097\n",
      "Epoch 19/30\n",
      "7352/7352 [==============================] - 63s 9ms/step - loss: 0.1496 - acc: 0.9445 - val_loss: 0.2643 - val_acc: 0.9101\n",
      "Epoch 20/30\n",
      "7352/7352 [==============================] - 68s 9ms/step - loss: 0.1557 - acc: 0.9456 - val_loss: 0.4241 - val_acc: 0.9138\n",
      "Epoch 21/30\n",
      "7352/7352 [==============================] - 64s 9ms/step - loss: 0.1438 - acc: 0.9489 - val_loss: 0.3581 - val_acc: 0.9182\n",
      "Epoch 22/30\n",
      "7352/7352 [==============================] - 66s 9ms/step - loss: 0.1672 - acc: 0.9482 - val_loss: 0.4519 - val_acc: 0.8999\n",
      "Epoch 23/30\n",
      "7352/7352 [==============================] - 65s 9ms/step - loss: 0.1646 - acc: 0.9476 - val_loss: 0.3793 - val_acc: 0.8901\n",
      "Epoch 24/30\n",
      "7352/7352 [==============================] - 64s 9ms/step - loss: 0.1342 - acc: 0.9495 - val_loss: 0.4674 - val_acc: 0.9016\n",
      "Epoch 25/30\n",
      "7352/7352 [==============================] - 63s 9ms/step - loss: 0.1487 - acc: 0.9513 - val_loss: 0.3573 - val_acc: 0.9080\n",
      "Epoch 26/30\n",
      "7352/7352 [==============================] - 63s 9ms/step - loss: 0.1430 - acc: 0.9486 - val_loss: 0.4709 - val_acc: 0.8996\n",
      "Epoch 27/30\n",
      "7352/7352 [==============================] - 64s 9ms/step - loss: 0.1375 - acc: 0.9525 - val_loss: 0.3153 - val_acc: 0.9155\n",
      "Epoch 28/30\n",
      "7352/7352 [==============================] - 64s 9ms/step - loss: 0.1383 - acc: 0.9475 - val_loss: 0.3903 - val_acc: 0.9209\n",
      "Epoch 29/30\n",
      "7352/7352 [==============================] - 64s 9ms/step - loss: 0.1412 - acc: 0.9527 - val_loss: 0.4155 - val_acc: 0.9060\n",
      "Epoch 30/30\n",
      "7352/7352 [==============================] - 64s 9ms/step - loss: 0.1524 - acc: 0.9455 - val_loss: 0.8538 - val_acc: 0.8819\n"
     ]
    }
   ],
   "source": [
    "# Training the model\n",
    "history_64_rms = model.fit(X_train,\n",
    "Y_train,\n",
    "batch_size=batch_size,\n",
    "validation_data=(X_test, Y_test),\n",
    "epochs=epochs)"
   ]
  },
  {
   "cell_type": "code",
   "execution_count": 31,
   "metadata": {},
   "outputs": [
    {
     "name": "stdout",
     "output_type": "stream",
     "text": [
      "Pred                LAYING  SITTING  STANDING  WALKING  WALKING_DOWNSTAIRS  \\\n",
      "True                                                                         \n",
      "LAYING                 510        0        27        0                   0   \n",
      "SITTING                  3      382       103        1                   0   \n",
      "STANDING                 0       82       447        3                   0   \n",
      "WALKING                  0        0         0      492                   4   \n",
      "WALKING_DOWNSTAIRS       0        0         0       35                 384   \n",
      "WALKING_UPSTAIRS         0        0         0       75                  12   \n",
      "\n",
      "Pred                WALKING_UPSTAIRS  \n",
      "True                                  \n",
      "LAYING                             0  \n",
      "SITTING                            2  \n",
      "STANDING                           0  \n",
      "WALKING                            0  \n",
      "WALKING_DOWNSTAIRS                 1  \n",
      "WALKING_UPSTAIRS                 384  \n"
     ]
    }
   ],
   "source": [
    "# Confusion Matrix\n",
    "print(confusion_matrix(Y_test, model.predict(X_test)))"
   ]
  },
  {
   "cell_type": "code",
   "execution_count": 32,
   "metadata": {},
   "outputs": [
    {
     "name": "stdout",
     "output_type": "stream",
     "text": [
      "2947/2947 [==============================] - 3s 908us/step\n"
     ]
    }
   ],
   "source": [
    "score_64_rms = model.evaluate(X_test, Y_test)"
   ]
  },
  {
   "cell_type": "code",
   "execution_count": 33,
   "metadata": {},
   "outputs": [
    {
     "data": {
      "text/plain": [
       "[0.8537755837855637, 0.8819138106549033]"
      ]
     },
     "execution_count": 33,
     "metadata": {},
     "output_type": "execute_result"
    }
   ],
   "source": [
    "score_64_rms"
   ]
  },
  {
   "cell_type": "markdown",
   "metadata": {},
   "source": [
    "### LSTM using multilayer with 64 units"
   ]
  },
  {
   "cell_type": "code",
   "execution_count": 34,
   "metadata": {},
   "outputs": [
    {
     "name": "stdout",
     "output_type": "stream",
     "text": [
      "_________________________________________________________________\n",
      "Layer (type)                 Output Shape              Param #   \n",
      "=================================================================\n",
      "lstm_4 (LSTM)                (None, 128, 64)           18944     \n",
      "_________________________________________________________________\n",
      "dropout_4 (Dropout)          (None, 128, 64)           0         \n",
      "_________________________________________________________________\n",
      "lstm_5 (LSTM)                (None, 64)                33024     \n",
      "_________________________________________________________________\n",
      "dropout_5 (Dropout)          (None, 64)                0         \n",
      "_________________________________________________________________\n",
      "dense_4 (Dense)              (None, 6)                 390       \n",
      "=================================================================\n",
      "Total params: 52,358\n",
      "Trainable params: 52,358\n",
      "Non-trainable params: 0\n",
      "_________________________________________________________________\n"
     ]
    }
   ],
   "source": [
    "# Initiliazing the sequential model\n",
    "model = Sequential()\n",
    "# Configuring the parameters\n",
    "model.add(LSTM(64, return_sequences=True, input_shape=(timesteps, input_dim)))\n",
    "# Adding a dropout layer\n",
    "model.add(Dropout(0.7))\n",
    "# Configuring the parameters\n",
    "model.add(LSTM(64, input_shape=(timesteps, input_dim)))\n",
    "# Adding a dropout layer\n",
    "model.add(Dropout(0.7))\n",
    "# Adding a dense output layer with sigmoid activation\n",
    "model.add(Dense(n_classes, activation='sigmoid'))\n",
    "model.summary()"
   ]
  },
  {
   "cell_type": "code",
   "execution_count": 35,
   "metadata": {},
   "outputs": [],
   "source": [
    "model.compile(loss='categorical_crossentropy',\n",
    "optimizer='rmsprop',\n",
    "metrics=['accuracy'])"
   ]
  },
  {
   "cell_type": "code",
   "execution_count": 36,
   "metadata": {},
   "outputs": [
    {
     "name": "stdout",
     "output_type": "stream",
     "text": [
      "Train on 7352 samples, validate on 2947 samples\n",
      "Epoch 1/30\n",
      "7352/7352 [==============================] - 138s 19ms/step - loss: 1.1621 - acc: 0.4933 - val_loss: 0.9635 - val_acc: 0.5426\n",
      "Epoch 2/30\n",
      "7352/7352 [==============================] - 134s 18ms/step - loss: 0.8951 - acc: 0.5786 - val_loss: 0.7849 - val_acc: 0.6166\n",
      "Epoch 3/30\n",
      "7352/7352 [==============================] - 137s 19ms/step - loss: 0.7275 - acc: 0.6386 - val_loss: 0.8098 - val_acc: 0.6149\n",
      "Epoch 4/30\n",
      "7352/7352 [==============================] - 141s 19ms/step - loss: 0.7318 - acc: 0.6376 - val_loss: 0.8035 - val_acc: 0.6166\n",
      "Epoch 5/30\n",
      "7352/7352 [==============================] - 157s 21ms/step - loss: 0.7077 - acc: 0.6545 - val_loss: 0.8568 - val_acc: 0.6183\n",
      "Epoch 6/30\n",
      "7352/7352 [==============================] - 157s 21ms/step - loss: 0.6574 - acc: 0.6787 - val_loss: 1.2631 - val_acc: 0.5497\n",
      "Epoch 7/30\n",
      "7352/7352 [==============================] - 135s 18ms/step - loss: 0.6084 - acc: 0.7247 - val_loss: 0.6831 - val_acc: 0.7828\n",
      "Epoch 8/30\n",
      "7352/7352 [==============================] - 134s 18ms/step - loss: 0.4588 - acc: 0.8436 - val_loss: 0.7575 - val_acc: 0.8073\n",
      "Epoch 9/30\n",
      "7352/7352 [==============================] - 134s 18ms/step - loss: 0.3437 - acc: 0.8999 - val_loss: 0.4098 - val_acc: 0.8748\n",
      "Epoch 10/30\n",
      "7352/7352 [==============================] - 133s 18ms/step - loss: 0.2448 - acc: 0.9268 - val_loss: 0.3907 - val_acc: 0.8867\n",
      "Epoch 11/30\n",
      "7352/7352 [==============================] - 134s 18ms/step - loss: 0.2749 - acc: 0.9183 - val_loss: 0.4968 - val_acc: 0.8724\n",
      "Epoch 12/30\n",
      "7352/7352 [==============================] - 133s 18ms/step - loss: 0.2021 - acc: 0.9363 - val_loss: 0.4030 - val_acc: 0.8823\n",
      "Epoch 13/30\n",
      "7352/7352 [==============================] - 134s 18ms/step - loss: 0.2087 - acc: 0.9358 - val_loss: 0.3858 - val_acc: 0.8833\n",
      "Epoch 14/30\n",
      "7352/7352 [==============================] - 134s 18ms/step - loss: 0.1919 - acc: 0.9370 - val_loss: 0.4987 - val_acc: 0.8924\n",
      "Epoch 15/30\n",
      "7352/7352 [==============================] - 140s 19ms/step - loss: 0.1812 - acc: 0.9433 - val_loss: 0.5099 - val_acc: 0.9019\n",
      "Epoch 16/30\n",
      "7352/7352 [==============================] - 141s 19ms/step - loss: 0.1769 - acc: 0.9448 - val_loss: 0.3621 - val_acc: 0.9114\n",
      "Epoch 17/30\n",
      "7352/7352 [==============================] - 134s 18ms/step - loss: 0.2213 - acc: 0.9372 - val_loss: 0.6163 - val_acc: 0.8955\n",
      "Epoch 18/30\n",
      "7352/7352 [==============================] - 145s 20ms/step - loss: 0.1690 - acc: 0.9441 - val_loss: 0.3735 - val_acc: 0.9036\n",
      "Epoch 19/30\n",
      "7352/7352 [==============================] - 137s 19ms/step - loss: 0.1634 - acc: 0.9464 - val_loss: 0.3720 - val_acc: 0.9040\n",
      "Epoch 20/30\n",
      "7352/7352 [==============================] - 140s 19ms/step - loss: 0.1682 - acc: 0.9487 - val_loss: 0.4646 - val_acc: 0.8979\n",
      "Epoch 21/30\n",
      "7352/7352 [==============================] - 140s 19ms/step - loss: 0.1546 - acc: 0.9482 - val_loss: 0.7664 - val_acc: 0.8877\n",
      "Epoch 22/30\n",
      "7352/7352 [==============================] - 138s 19ms/step - loss: 0.1533 - acc: 0.9502 - val_loss: 0.3033 - val_acc: 0.9260\n",
      "Epoch 23/30\n",
      "7352/7352 [==============================] - 144s 20ms/step - loss: 0.1655 - acc: 0.9468 - val_loss: 0.4681 - val_acc: 0.9111\n",
      "Epoch 24/30\n",
      "7352/7352 [==============================] - 143s 19ms/step - loss: 0.1563 - acc: 0.9480 - val_loss: 0.3611 - val_acc: 0.9111\n",
      "Epoch 25/30\n",
      "7352/7352 [==============================] - 136s 18ms/step - loss: 0.1467 - acc: 0.9470 - val_loss: 0.3619 - val_acc: 0.9284\n",
      "Epoch 26/30\n",
      "7352/7352 [==============================] - 137s 19ms/step - loss: 0.1549 - acc: 0.9486 - val_loss: 0.3251 - val_acc: 0.8951\n",
      "Epoch 27/30\n",
      "7352/7352 [==============================] - 135s 18ms/step - loss: 0.1458 - acc: 0.9453 - val_loss: 0.4668 - val_acc: 0.9284\n",
      "Epoch 28/30\n",
      "7352/7352 [==============================] - 135s 18ms/step - loss: 0.1349 - acc: 0.9502 - val_loss: 0.5758 - val_acc: 0.9063\n",
      "Epoch 29/30\n",
      "7352/7352 [==============================] - 134s 18ms/step - loss: 0.1424 - acc: 0.9494 - val_loss: 0.3567 - val_acc: 0.9104\n",
      "Epoch 30/30\n",
      "7352/7352 [==============================] - 129s 18ms/step - loss: 0.1357 - acc: 0.9547 - val_loss: 0.3798 - val_acc: 0.9152\n"
     ]
    }
   ],
   "source": [
    "# Training the model\n",
    "history_64_64_rms = model.fit(X_train,\n",
    "Y_train,\n",
    "batch_size=batch_size,\n",
    "validation_data=(X_test, Y_test),\n",
    "epochs=epochs)"
   ]
  },
  {
   "cell_type": "code",
   "execution_count": 37,
   "metadata": {},
   "outputs": [
    {
     "name": "stdout",
     "output_type": "stream",
     "text": [
      "Pred                LAYING  SITTING  STANDING  WALKING  WALKING_DOWNSTAIRS  \\\n",
      "True                                                                         \n",
      "LAYING                 521        0        16        0                   0   \n",
      "SITTING                  0      342       145        0                   0   \n",
      "STANDING                 0       36       496        0                   0   \n",
      "WALKING                  0        0         0      479                  10   \n",
      "WALKING_DOWNSTAIRS       0        0         0        3                 417   \n",
      "WALKING_UPSTAIRS         0        0         0       12                  17   \n",
      "\n",
      "Pred                WALKING_UPSTAIRS  \n",
      "True                                  \n",
      "LAYING                             0  \n",
      "SITTING                            4  \n",
      "STANDING                           0  \n",
      "WALKING                            7  \n",
      "WALKING_DOWNSTAIRS                 0  \n",
      "WALKING_UPSTAIRS                 442  \n"
     ]
    }
   ],
   "source": [
    "# Confusion Matrix\n",
    "print(confusion_matrix(Y_test, model.predict(X_test)))"
   ]
  },
  {
   "cell_type": "code",
   "execution_count": 38,
   "metadata": {},
   "outputs": [
    {
     "name": "stdout",
     "output_type": "stream",
     "text": [
      "2947/2947 [==============================] - 6s 2ms/step\n"
     ]
    }
   ],
   "source": [
    "score_64_64_rms = model.evaluate(X_test, Y_test)"
   ]
  },
  {
   "cell_type": "code",
   "execution_count": 39,
   "metadata": {},
   "outputs": [
    {
     "data": {
      "text/plain": [
       "[0.3797549853132213, 0.9151679674244995]"
      ]
     },
     "execution_count": 39,
     "metadata": {},
     "output_type": "execute_result"
    }
   ],
   "source": [
    "score_64_64_rms"
   ]
  },
  {
   "cell_type": "markdown",
   "metadata": {},
   "source": [
    "### LSTM with 128 Units"
   ]
  },
  {
   "cell_type": "code",
   "execution_count": 55,
   "metadata": {},
   "outputs": [
    {
     "name": "stdout",
     "output_type": "stream",
     "text": [
      "_________________________________________________________________\n",
      "Layer (type)                 Output Shape              Param #   \n",
      "=================================================================\n",
      "lstm_11 (LSTM)               (None, 128)               70656     \n",
      "_________________________________________________________________\n",
      "batch_normalization_1 (Batch (None, 128)               512       \n",
      "_________________________________________________________________\n",
      "dropout_9 (Dropout)          (None, 128)               0         \n",
      "_________________________________________________________________\n",
      "dense_7 (Dense)              (None, 6)                 774       \n",
      "=================================================================\n",
      "Total params: 71,942\n",
      "Trainable params: 71,686\n",
      "Non-trainable params: 256\n",
      "_________________________________________________________________\n"
     ]
    }
   ],
   "source": [
    "# Initiliazing the sequential model\n",
    "model = Sequential()\n",
    "# Configuring the parameters\n",
    "model.add(LSTM(128, input_shape=(timesteps, input_dim)))\n",
    "model.add(BatchNormalization())\n",
    "# Adding a dropout layer\n",
    "model.add(Dropout(0.25))\n",
    "# Adding a dense output layer with sigmoid activation\n",
    "model.add(Dense(n_classes, activation='sigmoid'))\n",
    "model.summary()"
   ]
  },
  {
   "cell_type": "code",
   "execution_count": 56,
   "metadata": {},
   "outputs": [],
   "source": [
    "model.compile(loss='categorical_crossentropy',\n",
    "optimizer='rmsprop',\n",
    "metrics=['accuracy'])"
   ]
  },
  {
   "cell_type": "code",
   "execution_count": 61,
   "metadata": {},
   "outputs": [
    {
     "name": "stdout",
     "output_type": "stream",
     "text": [
      "Train on 7352 samples, validate on 2947 samples\n",
      "Epoch 1/35\n",
      "7352/7352 [==============================] - 86s 12ms/step - loss: 0.1320 - acc: 0.9520 - val_loss: 0.3552 - val_acc: 0.9321\n",
      "Epoch 2/35\n",
      "7352/7352 [==============================] - 85s 12ms/step - loss: 0.1435 - acc: 0.9391 - val_loss: 0.4673 - val_acc: 0.9148\n",
      "Epoch 3/35\n",
      "7352/7352 [==============================] - 83s 11ms/step - loss: 0.1348 - acc: 0.9493 - val_loss: 0.3677 - val_acc: 0.9253\n",
      "Epoch 4/35\n",
      "7352/7352 [==============================] - 85s 12ms/step - loss: 0.1321 - acc: 0.9498 - val_loss: 0.4059 - val_acc: 0.9091\n",
      "Epoch 5/35\n",
      "7352/7352 [==============================] - 83s 11ms/step - loss: 0.1292 - acc: 0.9501 - val_loss: 0.5025 - val_acc: 0.9125\n",
      "Epoch 6/35\n",
      "7352/7352 [==============================] - 83s 11ms/step - loss: 0.1181 - acc: 0.9514 - val_loss: 0.4127 - val_acc: 0.9257\n",
      "Epoch 7/35\n",
      "7352/7352 [==============================] - 83s 11ms/step - loss: 0.1255 - acc: 0.9491 - val_loss: 0.6469 - val_acc: 0.8938\n",
      "Epoch 8/35\n",
      "7352/7352 [==============================] - 83s 11ms/step - loss: 0.1294 - acc: 0.9484 - val_loss: 0.4402 - val_acc: 0.9158\n",
      "Epoch 9/35\n",
      "7352/7352 [==============================] - 82s 11ms/step - loss: 0.1323 - acc: 0.9475 - val_loss: 0.4244 - val_acc: 0.9226\n",
      "Epoch 10/35\n",
      "7352/7352 [==============================] - 83s 11ms/step - loss: 0.1228 - acc: 0.9493 - val_loss: 0.3803 - val_acc: 0.9226\n",
      "Epoch 11/35\n",
      "7352/7352 [==============================] - 83s 11ms/step - loss: 0.1351 - acc: 0.9472 - val_loss: 0.3839 - val_acc: 0.9125\n",
      "Epoch 12/35\n",
      "7352/7352 [==============================] - 83s 11ms/step - loss: 0.1458 - acc: 0.9406 - val_loss: 0.4340 - val_acc: 0.9125\n",
      "Epoch 13/35\n",
      "7352/7352 [==============================] - 83s 11ms/step - loss: 0.1214 - acc: 0.9516 - val_loss: 0.4159 - val_acc: 0.9019\n",
      "Epoch 14/35\n",
      "7352/7352 [==============================] - 83s 11ms/step - loss: 0.1171 - acc: 0.9540 - val_loss: 0.3654 - val_acc: 0.9114\n",
      "Epoch 15/35\n",
      "7352/7352 [==============================] - 83s 11ms/step - loss: 0.1278 - acc: 0.9538 - val_loss: 0.4306 - val_acc: 0.9094\n",
      "Epoch 16/35\n",
      "7352/7352 [==============================] - 83s 11ms/step - loss: 0.1431 - acc: 0.9450 - val_loss: 0.3546 - val_acc: 0.9182\n",
      "Epoch 17/35\n",
      "7352/7352 [==============================] - 85s 12ms/step - loss: 0.1257 - acc: 0.9548 - val_loss: 0.2510 - val_acc: 0.9172\n",
      "Epoch 18/35\n",
      "7352/7352 [==============================] - 86s 12ms/step - loss: 0.1109 - acc: 0.9533 - val_loss: 0.4596 - val_acc: 0.9189\n",
      "Epoch 19/35\n",
      "7352/7352 [==============================] - 83s 11ms/step - loss: 0.1242 - acc: 0.9528 - val_loss: 0.3398 - val_acc: 0.9230\n",
      "Epoch 20/35\n",
      "7352/7352 [==============================] - 85s 12ms/step - loss: nan - acc: 0.9236 - val_loss: nan - val_acc: 0.1683\n",
      "Epoch 21/35\n",
      "7352/7352 [==============================] - 113s 15ms/step - loss: nan - acc: 0.1668 - val_loss: nan - val_acc: 0.1683\n",
      "Epoch 22/35\n",
      "7352/7352 [==============================] - 126s 17ms/step - loss: nan - acc: 0.1668 - val_loss: nan - val_acc: 0.1683\n",
      "Epoch 23/35\n",
      "7352/7352 [==============================] - 118s 16ms/step - loss: nan - acc: 0.1668 - val_loss: nan - val_acc: 0.1683\n",
      "Epoch 24/35\n",
      "7352/7352 [==============================] - 123s 17ms/step - loss: nan - acc: 0.1668 - val_loss: nan - val_acc: 0.1683\n",
      "Epoch 25/35\n",
      "7352/7352 [==============================] - 115s 16ms/step - loss: nan - acc: 0.1668 - val_loss: nan - val_acc: 0.1683\n",
      "Epoch 26/35\n",
      "7352/7352 [==============================] - 110s 15ms/step - loss: nan - acc: 0.1668 - val_loss: nan - val_acc: 0.1683\n",
      "Epoch 27/35\n",
      "7352/7352 [==============================] - 80s 11ms/step - loss: nan - acc: 0.1668 - val_loss: nan - val_acc: 0.1683\n",
      "Epoch 28/35\n",
      "7352/7352 [==============================] - 79s 11ms/step - loss: nan - acc: 0.1668 - val_loss: nan - val_acc: 0.1683\n",
      "Epoch 29/35\n",
      "7352/7352 [==============================] - 82s 11ms/step - loss: nan - acc: 0.1668 - val_loss: nan - val_acc: 0.1683\n",
      "Epoch 30/35\n",
      "7352/7352 [==============================] - 79s 11ms/step - loss: nan - acc: 0.1668 - val_loss: nan - val_acc: 0.1683\n",
      "Epoch 31/35\n",
      "7352/7352 [==============================] - 79s 11ms/step - loss: nan - acc: 0.1668 - val_loss: nan - val_acc: 0.1683\n",
      "Epoch 32/35\n",
      "7352/7352 [==============================] - 80s 11ms/step - loss: nan - acc: 0.1668 - val_loss: nan - val_acc: 0.1683\n",
      "Epoch 33/35\n",
      "7352/7352 [==============================] - 80s 11ms/step - loss: nan - acc: 0.1668 - val_loss: nan - val_acc: 0.1683\n",
      "Epoch 34/35\n",
      "7352/7352 [==============================] - 80s 11ms/step - loss: nan - acc: 0.1668 - val_loss: nan - val_acc: 0.1683\n",
      "Epoch 35/35\n",
      "7352/7352 [==============================] - 80s 11ms/step - loss: nan - acc: 0.1668 - val_loss: nan - val_acc: 0.1683\n"
     ]
    }
   ],
   "source": [
    "# Training the model\n",
    "history_128_rms = model.fit(X_train,\n",
    "Y_train,\n",
    "batch_size=batch_size,\n",
    "validation_data=(X_test, Y_test),\n",
    "epochs=35)"
   ]
  },
  {
   "cell_type": "code",
   "execution_count": 62,
   "metadata": {},
   "outputs": [
    {
     "name": "stdout",
     "output_type": "stream",
     "text": [
      "2947/2947 [==============================] - 4s 1ms/step\n"
     ]
    }
   ],
   "source": [
    "score_128_rms = model.evaluate(X_test, Y_test)"
   ]
  },
  {
   "cell_type": "code",
   "execution_count": 63,
   "metadata": {},
   "outputs": [
    {
     "data": {
      "text/plain": [
       "[nan, 0.168306752629793]"
      ]
     },
     "execution_count": 63,
     "metadata": {},
     "output_type": "execute_result"
    }
   ],
   "source": [
    "score_128_rms"
   ]
  },
  {
   "cell_type": "code",
   "execution_count": 48,
   "metadata": {},
   "outputs": [
    {
     "name": "stdout",
     "output_type": "stream",
     "text": [
      "_________________________________________________________________\n",
      "Layer (type)                 Output Shape              Param #   \n",
      "=================================================================\n",
      "lstm_9 (LSTM)                (None, 128, 128)          70656     \n",
      "_________________________________________________________________\n",
      "dropout_7 (Dropout)          (None, 128, 128)          0         \n",
      "_________________________________________________________________\n",
      "lstm_10 (LSTM)               (None, 64)                49408     \n",
      "_________________________________________________________________\n",
      "dropout_8 (Dropout)          (None, 64)                0         \n",
      "_________________________________________________________________\n",
      "dense_6 (Dense)              (None, 6)                 390       \n",
      "=================================================================\n",
      "Total params: 120,454\n",
      "Trainable params: 120,454\n",
      "Non-trainable params: 0\n",
      "_________________________________________________________________\n"
     ]
    }
   ],
   "source": [
    "# Initiliazing the sequential model\n",
    "model = Sequential()\n",
    "# Configuring the parameters\n",
    "model.add(LSTM(128, return_sequences=True, input_shape=(timesteps, input_dim)))\n",
    "# model.add(BatchNormalization())\n",
    "# Adding a dropout layer\n",
    "model.add(Dropout(0.7))\n",
    "\n",
    "model.add(LSTM(64))\n",
    "# Adding a dropout layer\n",
    "model.add(Dropout(0.5))\n",
    "# Adding a dense output layer with sigmoid activation\n",
    "model.add(Dense(n_classes, activation='sigmoid'))\n",
    "model.summary()"
   ]
  },
  {
   "cell_type": "code",
   "execution_count": 49,
   "metadata": {},
   "outputs": [],
   "source": [
    "model.compile(loss='categorical_crossentropy',\n",
    "optimizer='rmsprop',\n",
    "metrics=['accuracy'])"
   ]
  },
  {
   "cell_type": "code",
   "execution_count": 50,
   "metadata": {},
   "outputs": [
    {
     "name": "stdout",
     "output_type": "stream",
     "text": [
      "Train on 7352 samples, validate on 2947 samples\n",
      "Epoch 1/25\n",
      "7352/7352 [==============================] - 194s 26ms/step - loss: 1.1063 - acc: 0.5137 - val_loss: 0.8138 - val_acc: 0.6447\n",
      "Epoch 2/25\n",
      "7352/7352 [==============================] - 171s 23ms/step - loss: 0.7901 - acc: 0.6243 - val_loss: 1.3584 - val_acc: 0.4608\n",
      "Epoch 3/25\n",
      "7352/7352 [==============================] - 168s 23ms/step - loss: 0.7428 - acc: 0.6313 - val_loss: 0.7845 - val_acc: 0.6040\n",
      "Epoch 4/25\n",
      "7352/7352 [==============================] - 168s 23ms/step - loss: 0.7310 - acc: 0.6421 - val_loss: 0.9128 - val_acc: 0.5993\n",
      "Epoch 5/25\n",
      "7352/7352 [==============================] - 170s 23ms/step - loss: 0.8087 - acc: 0.6329 - val_loss: 1.2705 - val_acc: 0.4788\n",
      "Epoch 6/25\n",
      "7352/7352 [==============================] - 166s 23ms/step - loss: 0.9216 - acc: 0.6055 - val_loss: 0.7259 - val_acc: 0.6332\n",
      "Epoch 7/25\n",
      "7352/7352 [==============================] - 170s 23ms/step - loss: 0.5462 - acc: 0.7735 - val_loss: 0.4805 - val_acc: 0.7933\n",
      "Epoch 8/25\n",
      "7352/7352 [==============================] - 183s 25ms/step - loss: 0.3246 - acc: 0.8867 - val_loss: 0.5128 - val_acc: 0.8514\n",
      "Epoch 9/25\n",
      "7352/7352 [==============================] - 175s 24ms/step - loss: 0.2272 - acc: 0.9261 - val_loss: 0.3807 - val_acc: 0.8928\n",
      "Epoch 10/25\n",
      "7352/7352 [==============================] - 180s 24ms/step - loss: 0.2003 - acc: 0.9298 - val_loss: 0.4115 - val_acc: 0.8979\n",
      "Epoch 11/25\n",
      "7352/7352 [==============================] - 168s 23ms/step - loss: 0.2977 - acc: 0.8999 - val_loss: 0.7023 - val_acc: 0.7822\n",
      "Epoch 12/25\n",
      "7352/7352 [==============================] - 167s 23ms/step - loss: 0.1759 - acc: 0.9378 - val_loss: 0.3142 - val_acc: 0.9118\n",
      "Epoch 13/25\n",
      "7352/7352 [==============================] - 187s 25ms/step - loss: 0.1855 - acc: 0.9353 - val_loss: 0.4181 - val_acc: 0.8951\n",
      "Epoch 14/25\n",
      "7352/7352 [==============================] - 188s 26ms/step - loss: 0.1590 - acc: 0.9402 - val_loss: 0.3657 - val_acc: 0.9111\n",
      "Epoch 15/25\n",
      "7352/7352 [==============================] - 175s 24ms/step - loss: 0.1783 - acc: 0.9373 - val_loss: 0.3275 - val_acc: 0.9131\n",
      "Epoch 16/25\n",
      "7352/7352 [==============================] - 180s 25ms/step - loss: 0.1426 - acc: 0.9468 - val_loss: 0.3577 - val_acc: 0.9135\n",
      "Epoch 17/25\n",
      "7352/7352 [==============================] - 200s 27ms/step - loss: 0.1417 - acc: 0.9467 - val_loss: 0.4571 - val_acc: 0.9097\n",
      "Epoch 18/25\n",
      "7352/7352 [==============================] - 185s 25ms/step - loss: 0.1476 - acc: 0.9472 - val_loss: 0.4135 - val_acc: 0.9033\n",
      "Epoch 19/25\n",
      "7352/7352 [==============================] - 179s 24ms/step - loss: 0.1472 - acc: 0.9486 - val_loss: 0.4735 - val_acc: 0.8911\n",
      "Epoch 20/25\n",
      "7352/7352 [==============================] - 176s 24ms/step - loss: 0.1362 - acc: 0.9445 - val_loss: 0.4530 - val_acc: 0.9118\n",
      "Epoch 21/25\n",
      "7352/7352 [==============================] - 183s 25ms/step - loss: 0.1450 - acc: 0.9457 - val_loss: 0.4248 - val_acc: 0.9087\n",
      "Epoch 22/25\n",
      "7352/7352 [==============================] - 177s 24ms/step - loss: 0.1243 - acc: 0.9520 - val_loss: 0.3234 - val_acc: 0.9080\n",
      "Epoch 23/25\n",
      "7352/7352 [==============================] - 184s 25ms/step - loss: 0.1376 - acc: 0.9490 - val_loss: 0.2925 - val_acc: 0.9114\n",
      "Epoch 24/25\n",
      "7352/7352 [==============================] - 178s 24ms/step - loss: 0.1435 - acc: 0.9474 - val_loss: 0.5265 - val_acc: 0.9019\n",
      "Epoch 25/25\n",
      "7352/7352 [==============================] - 175s 24ms/step - loss: 0.1377 - acc: 0.9502 - val_loss: 0.3937 - val_acc: 0.9030\n"
     ]
    }
   ],
   "source": [
    "# Training the model\n",
    "history_128_64_rms = model.fit(X_train,\n",
    "Y_train,\n",
    "batch_size=batch_size,\n",
    "validation_data=(X_test, Y_test),\n",
    "epochs=25)"
   ]
  },
  {
   "cell_type": "code",
   "execution_count": 51,
   "metadata": {},
   "outputs": [
    {
     "name": "stdout",
     "output_type": "stream",
     "text": [
      "2947/2947 [==============================] - 7s 2ms/step\n"
     ]
    }
   ],
   "source": [
    "score_128_64_rms = model.evaluate(X_test, Y_test)"
   ]
  },
  {
   "cell_type": "code",
   "execution_count": 52,
   "metadata": {},
   "outputs": [
    {
     "data": {
      "text/plain": [
       "[0.39368825139877356, 0.9029521547336274]"
      ]
     },
     "execution_count": 52,
     "metadata": {},
     "output_type": "execute_result"
    }
   ],
   "source": [
    "score_128_64_rms"
   ]
  },
  {
   "cell_type": "code",
   "execution_count": null,
   "metadata": {},
   "outputs": [],
   "source": []
  },
  {
   "cell_type": "code",
   "execution_count": 60,
   "metadata": {},
   "outputs": [
    {
     "name": "stdout",
     "output_type": "stream",
     "text": [
      "+-------+-------------------------------------------------------+--------------------+--------------------+\n",
      "| S.NO. |                         MODEL                         | Training Accuracy  |   Test Accuracy    |\n",
      "+-------+-------------------------------------------------------+--------------------+--------------------+\n",
      "|   1   |    1 LSTM layer with 32 Units(Optimizer-->rmsprop)    | 0.9435527747551686 | 0.8914149983033594 |\n",
      "|   2   |      1 LSTM layer with 48 Units(Optimizer--> adam     | 0.8333786724700761 | 0.7648456057007126 |\n",
      "|   3   |    1 LSTM layer with 64 Units(Optimizer-->rmsprop)    | 0.9454570184983678 | 0.8819138106549033 |\n",
      "|   4   |    2 LSTM layer with 64 Units(Optimizer-->rmsprop)    | 0.9547062023939065 | 0.9151679674244995 |\n",
      "|   5   |    1 LSTM layer with 128 Units(Optimizer-->rmsprop)   | 0.9504896626768227 | 0.9284017645062775 |\n",
      "|   6   | 2 LSTM layer with 128 & 64 Units(Optimizer-->rmsprop) | 0.9502176278563657 | 0.9029521547336274 |\n",
      "+-------+-------------------------------------------------------+--------------------+--------------------+\n"
     ]
    }
   ],
   "source": [
    "# Creating table using PrettyTable library\n",
    "from prettytable import PrettyTable\n",
    "\n",
    "# Names of models\n",
    "names =['1 LSTM layer with 32 Units(Optimizer-->rmsprop)','1 LSTM layer with 48 Units(Optimizer--> adam',\\\n",
    "'1 LSTM layer with 64 Units(Optimizer-->rmsprop)', '2 LSTM layer with 64 Units(Optimizer-->rmsprop)', \\\n",
    "'1 LSTM layer with 128 Units(Optimizer-->rmsprop)', '2 LSTM layer with 128 & 64 Units(Optimizer-->rmsprop)']\n",
    "        \n",
    "# Training accuracies\n",
    "train_acc = [history_32_rms.history['acc'][29], history_48_adam.history['acc'][29], history_64_rms.history['acc'][29], \n",
    "             history_64_64_rms.history['acc'][29], history_128_rms.history['acc'][24], history_128_64_rms.history['acc'][24]]\n",
    "             \n",
    "# Test accuracies\n",
    "test_acc =[score_32_rms[1], score_48_adam[1], score_64_rms[1], score_64_64_rms[1], score_128_rms[1], score_128_64_rms[1]]\n",
    "numbering = [1,2,3,4, 5, 6]\n",
    "           \n",
    "# Initializing prettytable\n",
    "ptable = PrettyTable()\n",
    "# Adding columns\n",
    "ptable.add_column(\"S.NO.\",numbering)\n",
    "ptable.add_column(\"MODEL\",names)\n",
    "ptable.add_column(\"Training Accuracy\",train_acc)\n",
    "ptable.add_column(\"Test Accuracy\",test_acc)\n",
    "# Printing the Table\n",
    "print(ptable)"
   ]
  },
  {
   "cell_type": "markdown",
   "metadata": {},
   "source": [
    "### Conclusion"
   ]
  },
  {
   "cell_type": "markdown",
   "metadata": {},
   "source": [
    "* Tried multiple architecures and got best 92.84% accuracy using 1 layer architecture of LSTM with 128 Units\n",
    "* Accuracy is better using RMSProp optimizer compared to Adam"
   ]
  }
 ],
 "metadata": {
  "kernelspec": {
   "display_name": "Python 3",
   "language": "python",
   "name": "python3"
  },
  "language_info": {
   "codemirror_mode": {
    "name": "ipython",
    "version": 3
   },
   "file_extension": ".py",
   "mimetype": "text/x-python",
   "name": "python",
   "nbconvert_exporter": "python",
   "pygments_lexer": "ipython3",
   "version": "3.7.0"
  }
 },
 "nbformat": 4,
 "nbformat_minor": 2
}
